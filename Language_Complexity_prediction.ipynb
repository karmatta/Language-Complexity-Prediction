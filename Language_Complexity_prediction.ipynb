{
 "cells": [
  {
   "cell_type": "code",
   "execution_count": 1,
   "metadata": {
    "_cell_guid": "b1076dfc-b9ad-4769-8c92-a6c4dae69d19",
    "_uuid": "8f2839f25d086af736a60e9eeb907d3b93b6e0e5"
   },
   "outputs": [],
   "source": [
    "# This python notebook is used to build a text classifier for language complexity \n",
    "# This model is built on three languages - English, Hindi and Telugu\n",
    "# This script uses the CBOW model for Hindi and Telugu languages from the corpus provided by CivicDataLabs\n",
    "# The output of this script is a text classifier for Hindi and Telugu trained on the provided corpus \n",
    "# Author - Karthik D\n",
    "\n",
    "%matplotlib inline\n",
    "import numpy as np # linear algebra\n",
    "import pandas as pd # data processing, CSV file I/O (e.g. pd.read_csv)\n",
    "import os\n",
    "import hiddenlayer as hl\n",
    "from nltk.corpus import wordnet\n",
    "import nltk"
   ]
  },
  {
   "cell_type": "code",
   "execution_count": 2,
   "metadata": {
    "_uuid": "d85cb53444dd40962f4d322012644cfd43f619d1"
   },
   "outputs": [
    {
     "name": "stderr",
     "output_type": "stream",
     "text": [
      "Using TensorFlow backend.\n"
     ]
    }
   ],
   "source": [
    "from pathlib import Path\n",
    "import unidecode\n",
    "import unicodedata\n",
    "import matplotlib.pyplot as plt\n",
    "from collections import Counter\n",
    "from tqdm import tqdm_notebook,tqdm\n",
    "import random\n",
    "from keras.preprocessing.text import Tokenizer\n",
    "from keras.preprocessing.sequence import pad_sequences\n",
    "from sklearn.model_selection import StratifiedKFold\n",
    "import torch\n",
    "import torch.nn as nn\n",
    "import torch.nn.functional as F\n",
    "from torch.utils.data import DataLoader,DataLoader,TensorDataset\n",
    "from torch.autograd import Variable\n",
    "from torch import optim\n",
    "import time\n",
    "import pdb\n",
    "import gc\n",
    "import re"
   ]
  },
  {
   "cell_type": "markdown",
   "metadata": {},
   "source": [
    "# **Device Definition**"
   ]
  },
  {
   "cell_type": "code",
   "execution_count": 3,
   "metadata": {},
   "outputs": [
    {
     "data": {
      "text/plain": [
       "device(type='cuda')"
      ]
     },
     "execution_count": 3,
     "metadata": {},
     "output_type": "execute_result"
    }
   ],
   "source": [
    "device = torch.device('cuda') if torch.cuda.is_available() else torch.device('cpu')\n",
    "device"
   ]
  },
  {
   "cell_type": "markdown",
   "metadata": {},
   "source": [
    "# **Prepare Train-Test Data**"
   ]
  },
  {
   "cell_type": "code",
   "execution_count": 4,
   "metadata": {
    "_cell_guid": "79c7e3d0-c299-4dcb-8224-4455121ee9b0",
    "_uuid": "d629ff2d2480ee46fbb7e2d37f6b5fab8052498a"
   },
   "outputs": [
    {
     "name": "stdout",
     "output_type": "stream",
     "text": [
      "3697\n",
      "3637\n"
     ]
    }
   ],
   "source": [
    "train_df = df = pd.read_csv(\"data_stories.csv\")\n",
    "train_df = train_df[[\"content\", 'reading_level_updated', 'story_langugage']]\n",
    "print(len(train_df))\n",
    "train_df = train_df.drop(train_df.index[[3658, 3669, 3686]])\n",
    "train_df = train_df.dropna()\n",
    "print(len(train_df))"
   ]
  },
  {
   "cell_type": "code",
   "execution_count": 5,
   "metadata": {},
   "outputs": [
    {
     "name": "stderr",
     "output_type": "stream",
     "text": [
      "/usr/local/lib/python3.5/dist-packages/pandas/core/generic.py:5096: SettingWithCopyWarning: \n",
      "A value is trying to be set on a copy of a slice from a DataFrame.\n",
      "Try using .loc[row_indexer,col_indexer] = value instead\n",
      "\n",
      "See the caveats in the documentation: http://pandas.pydata.org/pandas-docs/stable/indexing.html#indexing-view-versus-copy\n",
      "  self[name] = value\n"
     ]
    }
   ],
   "source": [
    "eng_df = train_df[train_df.story_langugage == 'English']\n",
    "hin_df = train_df[train_df.story_langugage == 'Hindi']\n",
    "tel_df = train_df[train_df.story_langugage == 'Telugu']\n",
    "\n",
    "hin_df.content = hin_df.content.str.replace(r'[A-Za-z0-9&;:!,\\-.()?”“\\'\\'\\\"\\\\]', \"\")\n",
    "tel_df.content = tel_df.content.str.replace(r'[A-Za-z0-9&;!:,\\-.()?”“\\'\\'\\\"\\\\]', \"\")\n",
    "eng_df.content = eng_df.content.str.replace(r'[0-9&;!:\\-,.()?”“\\'\\'\\\"\\\\]', \"\")\n",
    "\n",
    "hin_df.content = hin_df.content.str.replace(r\"[\\n]\",\"\")\n",
    "hin_df.content = hin_df.content.str.replace(r\"[\\t]\",\"\")\n",
    "hin_df.content = hin_df.content.str.replace(r\"[\\r]\",\"\")\n",
    "hin_df.content = hin_df.content.str.replace(r\"[\\\\u]\",\"\")\n",
    "\n",
    "tel_df.content = tel_df.content.str.replace(r\"[\\n]\",\"\")\n",
    "tel_df.content = tel_df.content.str.replace(r\"[\\t]\",\"\")\n",
    "tel_df.content = tel_df.content.str.replace(r\"[\\r]\",\"\")\n",
    "tel_df.content = tel_df.content.str.replace(r\"[\\\\u]\",\"\")\n",
    "\n",
    "eng_df.content = eng_df.content.str.replace(r\"[\\n]\",\"\")\n",
    "eng_df.content = eng_df.content.str.replace(r\"[\\t]\",\"\")\n",
    "eng_df.content = eng_df.content.str.replace(r\"[\\r]\",\"\")\n",
    "eng_df.content = eng_df.content.str.replace(r\"[\\\\u]\",\"\")"
   ]
  },
  {
   "cell_type": "code",
   "execution_count": 6,
   "metadata": {},
   "outputs": [],
   "source": [
    "def train_test_split(df, perc):\n",
    "    msk = np.random.rand(len(df)) < perc\n",
    "    train = df[msk]\n",
    "    test = df[~msk]\n",
    "    return train, test\n",
    "\n",
    "eng_train, eng_test = train_test_split(eng_df, 0.95)\n",
    "tel_train, tel_test = train_test_split(tel_df, 0.8)\n",
    "hin_train, hin_test = train_test_split(hin_df, 0.8)"
   ]
  },
  {
   "cell_type": "code",
   "execution_count": 7,
   "metadata": {
    "_uuid": "4a9c7b40763d22ef2858c4b815aad71b935e7708"
   },
   "outputs": [],
   "source": [
    "def seed_everything(seed=4823):\n",
    "    random.seed(seed)\n",
    "    os.environ['PYTHONHASHSEED'] = str(seed)\n",
    "    np.random.seed(seed)\n",
    "    torch.manual_seed(seed)\n",
    "    torch.cuda.manual_seed(seed)\n",
    "    torch.backends.cudnn.deterministic = True\n",
    "seed_everything()"
   ]
  },
  {
   "cell_type": "code",
   "execution_count": 8,
   "metadata": {
    "_uuid": "46c7089c5c046f46b8385e7128fcd1d668f05d85"
   },
   "outputs": [],
   "source": [
    "em_sz = 300\n",
    "vocab_sz = 70000\n",
    "max_len=250"
   ]
  },
  {
   "cell_type": "code",
   "execution_count": 9,
   "metadata": {
    "_uuid": "97d026cb99040337eef9a35b83fa22dceb10ed56"
   },
   "outputs": [],
   "source": [
    "def lang_tokenizer(df):\n",
    "    tokenizer = Tokenizer(vocab_sz)\n",
    "    tokenizer.fit_on_texts(df.content)\n",
    "    return tokenizer\n",
    "\n",
    "hin_train_tokenizer = lang_tokenizer(hin_train)\n",
    "eng_train_tokenizer = lang_tokenizer(eng_train)\n",
    "tel_train_tokenizer = lang_tokenizer(tel_train)\n",
    "\n",
    "hin_test_tokenizer = lang_tokenizer(hin_test)\n",
    "eng_test_tokenizer = lang_tokenizer(eng_test)\n",
    "tel_test_tokenizer = lang_tokenizer(tel_test)"
   ]
  },
  {
   "cell_type": "code",
   "execution_count": 10,
   "metadata": {
    "_uuid": "12fb19c07c16a80c47ee029dd03dad2dd22f939e"
   },
   "outputs": [
    {
     "name": "stdout",
     "output_type": "stream",
     "text": [
      "40671\n",
      "66891\n",
      "34371\n",
      "12370\n",
      "5956\n",
      "11547\n"
     ]
    }
   ],
   "source": [
    "\n",
    "def lang_tokenizer2(tokenizer, df):\n",
    "    x_dev = tokenizer.texts_to_sequences(df.content.values)\n",
    "    tokenizer.word_index.update({\"<eof>\":len(tokenizer.word_index)+1})\n",
    "    print(len(tokenizer.word_index))\n",
    "    return x_dev, tokenizer\n",
    "\n",
    "hin_x_train, hin_train_tokenizer = lang_tokenizer2(hin_train_tokenizer, hin_train)\n",
    "eng_x_train, eng_train_tokenizer = lang_tokenizer2(eng_train_tokenizer, eng_train)\n",
    "tel_x_train, tel_train_tokenizer = lang_tokenizer2(tel_train_tokenizer, tel_train)\n",
    "\n",
    "hin_x_test, hin_test_tokenizer = lang_tokenizer2(hin_test_tokenizer, hin_test)\n",
    "eng_x_test, eng_test_tokenizer = lang_tokenizer2(eng_test_tokenizer, eng_test)\n",
    "tel_x_test, tel_test_tokenizer = lang_tokenizer2(tel_test_tokenizer, tel_test)"
   ]
  },
  {
   "cell_type": "code",
   "execution_count": 11,
   "metadata": {
    "_uuid": "00d116a3e7bb130599b6391c65ef60346ac2d4ff"
   },
   "outputs": [],
   "source": [
    "hin_x_train = pad_sequences(hin_x_train, maxlen=max_len)\n",
    "eng_x_train = pad_sequences(eng_x_train, maxlen=max_len)\n",
    "tel_x_train = pad_sequences(tel_x_train, maxlen=max_len)\n",
    "\n",
    "hin_x_test = pad_sequences(hin_x_test, maxlen=max_len)\n",
    "eng_x_test = pad_sequences(eng_x_test, maxlen=max_len)\n",
    "tel_x_test = pad_sequences(tel_x_test, maxlen=max_len)"
   ]
  },
  {
   "cell_type": "code",
   "execution_count": 12,
   "metadata": {
    "_uuid": "9ffd075d8957db2ad31c2e4e20c68bba4cb2f0d3"
   },
   "outputs": [
    {
     "name": "stdout",
     "output_type": "stream",
     "text": [
      "[0 1 2 3]\n",
      "[0 1 2 3]\n",
      "[0 1 2 3]\n",
      "[0 1 2 3]\n",
      "[0 1 2 3]\n",
      "[0 1 2 3]\n"
     ]
    }
   ],
   "source": [
    "hin_y_train = hin_train.reading_level_updated.values\n",
    "hin_y_train = [int(s.replace('L' , ''))-1 for s in hin_y_train]\n",
    "hin_y_test = hin_test.reading_level_updated.values\n",
    "hin_y_test = [int(s.replace('L' , ''))-1 for s in hin_y_test]\n",
    "\n",
    "eng_y_train = eng_train.reading_level_updated.values\n",
    "eng_y_train = [int(s.replace('L' , ''))-1 for s in eng_y_train]\n",
    "eng_y_test = eng_test.reading_level_updated.values\n",
    "eng_y_test = [int(s.replace('L' , ''))-1 for s in eng_y_test]\n",
    "\n",
    "tel_y_train = tel_train.reading_level_updated.values\n",
    "tel_y_train = [int(s.replace('L' , '')) -1 for s in tel_y_train]\n",
    "tel_y_test = tel_test.reading_level_updated.values\n",
    "tel_y_test = [int(s.replace('L' , '')) -1 for s in tel_y_test]\n",
    "\n",
    "print(np.unique(hin_y_train))\n",
    "print(np.unique(hin_y_test))\n",
    "print(np.unique(tel_y_train))\n",
    "print(np.unique(tel_y_test))\n",
    "print(np.unique(eng_y_train))\n",
    "print(np.unique(eng_y_test))"
   ]
  },
  {
   "cell_type": "markdown",
   "metadata": {},
   "source": [
    "# **Embedding Loader Functions**"
   ]
  },
  {
   "cell_type": "code",
   "execution_count": 13,
   "metadata": {
    "_uuid": "40ad4da665bc6812b454f38b405e005c87f50fca"
   },
   "outputs": [],
   "source": [
    "EMB_PATH = ('glove.6B.300d.txt')\n",
    "def get_coefs(word,*arr): return word, np.asarray(arr, dtype='float32')\n",
    "\n",
    "\n",
    "def load_glove(word_index):\n",
    "    EMBEDDING_FILE = EMB_PATH\n",
    "    def get_coefs(word,*arr): return word, np.asarray(arr, dtype='float32')[:300]\n",
    "    embeddings_index = dict(get_coefs(*o.split(\" \")) for o in open(EMBEDDING_FILE))\n",
    "    \n",
    "    all_embs = np.stack(embeddings_index.values())\n",
    "    emb_mean,emb_std = -0.005838499,0.48782197\n",
    "    embed_size = all_embs.shape[1]\n",
    "    nb_words = min(vocab_sz, len(word_index))\n",
    "    embedding_matrix = np.random.normal(emb_mean, emb_std, (nb_words, embed_size))\n",
    "    for word, i in word_index.items():\n",
    "        if i >= vocab_sz: continue\n",
    "        embedding_vector = embeddings_index.get(word)\n",
    "        if embedding_vector is not None: embedding_matrix[i:] = embedding_vector        \n",
    "    return embedding_matrix \n",
    "\n",
    "def build_hindi_embedding(word_index):\n",
    "    hin_vocab_size = 44870\n",
    "    all_embs = np.array([hin_emb.get_word_vector(i).cpu().detach().numpy() for i in range(0, hin_vocab_size)])\n",
    "    all_embs = all_embs.reshape(all_embs.shape[0], all_embs.shape[2])\n",
    "    emb_mean,emb_std = -0.005838499,0.48782197\n",
    "    embed_size = all_embs.shape[1]\n",
    "    nb_words = min(hin_vocab_size, len(word_index))\n",
    "    embedding_matrix = np.random.normal(emb_mean, emb_std, (nb_words, embed_size))\n",
    "    for word, i in word_index.items():\n",
    "        if i >= hin_vocab_size: continue\n",
    "        embedding_vector = hin_emb.get_word_vector(i).cpu().detach().numpy()\n",
    "        if embedding_vector is not None: embedding_matrix[i:] = embedding_vector        \n",
    "    return embedding_matrix \n",
    "\n",
    "def build_telugu_embedding(word_index):\n",
    "    tel_vocab_size = 41261\n",
    "    all_embs = np.array([tel_emb.get_word_vector(i).cpu().detach().numpy() for i in range(0, tel_vocab_size)])\n",
    "    all_embs = all_embs.reshape(all_embs.shape[0], all_embs.shape[2])\n",
    "    emb_mean,emb_std = -0.005838499,0.48782197\n",
    "    embed_size = all_embs.shape[1]\n",
    "    nb_words = min(tel_vocab_size, len(word_index))\n",
    "    embedding_matrix = np.random.normal(emb_mean, emb_std, (nb_words, embed_size))\n",
    "    for word, i in word_index.items():\n",
    "        if i >= tel_vocab_size: continue\n",
    "        embedding_vector = tel_emb.get_word_vector(i).cpu().detach().numpy()\n",
    "        if embedding_vector is not None: embedding_matrix[i:] = embedding_vector        \n",
    "    return embedding_matrix "
   ]
  },
  {
   "cell_type": "markdown",
   "metadata": {},
   "source": [
    "# **Embedding Class Definition**"
   ]
  },
  {
   "cell_type": "code",
   "execution_count": 14,
   "metadata": {},
   "outputs": [],
   "source": [
    "class CBOW(nn.Module):\n",
    "    def __init__(self, vocab_size, embedding_size, context_size):\n",
    "        super(CBOW, self).__init__()\n",
    "        self.vocab_size = vocab_size\n",
    "        self.embedding_size = embedding_size\n",
    "        self.context_size = context_size\n",
    "        self.embeddings = nn.Embedding(self.vocab_size, self.embedding_size)\n",
    "        # return vector size will be context_size*2*embedding_size\n",
    "        self.lin1 = nn.Linear(self.context_size * 2 * self.embedding_size, 512)\n",
    "        self.lin2 = nn.Linear(512, self.vocab_size)\n",
    "    \n",
    "    def forward(self, inp):\n",
    "        out = self.embeddings(inp).view(1, -1)\n",
    "        out = out.view(1, -1)\n",
    "        out = self.lin1(out)\n",
    "        out = F.relu(out)\n",
    "        out = self.lin2(out)\n",
    "        out = F.log_softmax(out, dim=1)\n",
    "        return out\n",
    "    \n",
    "    def get_word_vector(self, word_idx):\n",
    "        word = Variable(torch.LongTensor([word_idx])).to(device)\n",
    "        return self.embeddings(word).view(1, -1)"
   ]
  },
  {
   "cell_type": "markdown",
   "metadata": {},
   "source": [
    "# **Load Embeddings files**"
   ]
  },
  {
   "cell_type": "code",
   "execution_count": 15,
   "metadata": {},
   "outputs": [
    {
     "name": "stdout",
     "output_type": "stream",
     "text": [
      "CBOW(\n",
      "  (embeddings): Embedding(41261, 300)\n",
      "  (lin1): Linear(in_features=2400, out_features=512, bias=True)\n",
      "  (lin2): Linear(in_features=512, out_features=41261, bias=True)\n",
      ")\n",
      "CBOW(\n",
      "  (embeddings): Embedding(44870, 300)\n",
      "  (lin1): Linear(in_features=2400, out_features=512, bias=True)\n",
      "  (lin2): Linear(in_features=512, out_features=44870, bias=True)\n",
      ")\n"
     ]
    }
   ],
   "source": [
    "import pickle\n",
    "\n",
    "with open('hin_emb.pkl', 'rb') as f:\n",
    "    hin_emb = pickle.load(f)\n",
    "    \n",
    "with open('tel_emb.pkl', 'rb',) as f:\n",
    "    tel_emb = pickle.load(f)\n",
    "    \n",
    "print(tel_emb)\n",
    "print(hin_emb)"
   ]
  },
  {
   "cell_type": "markdown",
   "metadata": {},
   "source": [
    "# **Create Embeddings from files**"
   ]
  },
  {
   "cell_type": "code",
   "execution_count": 16,
   "metadata": {},
   "outputs": [
    {
     "name": "stdout",
     "output_type": "stream",
     "text": [
      "(40671, 300)\n",
      "(12370, 300)\n"
     ]
    }
   ],
   "source": [
    "seed_everything()\n",
    "hin_embed_train = None\n",
    "hin_embed_test = None\n",
    "em_fns = [build_hindi_embedding]\n",
    "hin_embed_train = np.concatenate([fn(hin_train_tokenizer.word_index) for fn in em_fns],1)\n",
    "hin_embed_test = np.concatenate([fn(hin_test_tokenizer.word_index) for fn in em_fns],1)\n",
    "gc.collect()\n",
    "print(hin_embed_train.shape)\n",
    "print(hin_embed_test.shape)"
   ]
  },
  {
   "cell_type": "code",
   "execution_count": 17,
   "metadata": {},
   "outputs": [
    {
     "name": "stdout",
     "output_type": "stream",
     "text": [
      "(34371, 300)\n",
      "(11547, 300)\n"
     ]
    }
   ],
   "source": [
    "seed_everything()\n",
    "tel_embed_train = None\n",
    "tel_embed_test = None\n",
    "em_fns = [build_telugu_embedding]\n",
    "tel_embed_train = np.concatenate([fn(tel_train_tokenizer.word_index) for fn in em_fns],1)\n",
    "tel_embed_test = np.concatenate([fn(tel_test_tokenizer.word_index) for fn in em_fns],1)\n",
    "gc.collect()\n",
    "print(tel_embed_train.shape)\n",
    "print(tel_embed_test.shape)"
   ]
  },
  {
   "cell_type": "code",
   "execution_count": 18,
   "metadata": {},
   "outputs": [
    {
     "name": "stderr",
     "output_type": "stream",
     "text": [
      "/usr/local/lib/python3.5/dist-packages/ipykernel_launcher.py:10: FutureWarning: arrays to stack must be passed as a \"sequence\" type such as list or tuple. Support for non-sequence iterables such as generators is deprecated as of NumPy 1.16 and will raise an error in the future.\n",
      "  # Remove the CWD from sys.path while we load stuff.\n"
     ]
    },
    {
     "name": "stdout",
     "output_type": "stream",
     "text": [
      "(66891, 300)\n",
      "(5956, 300)\n"
     ]
    }
   ],
   "source": [
    "seed_everything()\n",
    "eng_embed_train = None\n",
    "eng_embed_test = None\n",
    "em_fns = [load_glove]\n",
    "eng_embed_train = np.concatenate([fn(eng_train_tokenizer.word_index) for fn in em_fns],1)\n",
    "eng_embed_test = np.concatenate([fn(eng_test_tokenizer.word_index) for fn in em_fns],1)\n",
    "gc.collect()\n",
    "print(eng_embed_train.shape)\n",
    "print(eng_embed_test.shape)"
   ]
  },
  {
   "cell_type": "markdown",
   "metadata": {},
   "source": [
    "# **Define Model Architecture**"
   ]
  },
  {
   "cell_type": "code",
   "execution_count": 19,
   "metadata": {
    "_uuid": "7c19c4a03e9d466c26514801ee73b41b2564de94"
   },
   "outputs": [],
   "source": [
    "def sigmoid(x):return 1 / (1 + np.exp(-x))\n",
    "class TextClassifierSimpleLSTM(nn.Module):\n",
    "    def __init__(self,vocab_sz,emb_sz,hn=40):\n",
    "        super().__init__()\n",
    "        self.hn,self.vocab_sz,self.emb_sz = hn,vocab_sz,emb_sz\n",
    "        self.emb = nn.Embedding(vocab_sz,emb_sz)\n",
    "        self.emb.weight = nn.Parameter(torch.tensor(embed,dtype=torch.float32))\n",
    "        self.emb.weight.requires_grad = False\n",
    "        self.e_d = nn.Dropout2d(0.1)\n",
    "        self.lstm = nn.LSTM(emb_sz, hn, bidirectional=True, batch_first=True)\n",
    "        self.lstm_atn = Attention(hn * 2, max_len)\n",
    "        self.fc = nn.Sequential(nn.Linear(240,16),nn.ReLU(),nn.Dropout(0.1),\n",
    "                                nn.Linear(16,1))\n",
    "\n",
    "    def forward(self,x):\n",
    "        e_o = torch.squeeze(self.e_d(torch.unsqueeze(self.emb(x),0)))\n",
    "        lstm_o,_ = self.lstm(e_o)\n",
    "        lstm_atn = self.lstm_atn(lstm_o)\n",
    "        concat_o = torch.cat([lstm_atn,torch.mean(lstm_o,1),torch.max(lstm_o,1)[0]],1)\n",
    "        return self.fc(concat_o)\n",
    "    \n",
    "class TextClassifier(nn.Module):\n",
    "    def __init__(self, embed, vocab_sz, emb_sz, hn=60):\n",
    "        super().__init__()\n",
    "        self.hn, self.vocab_sz, self.emb_sz = hn,vocab_sz, emb_sz\n",
    "        self.emb = nn.Embedding(vocab_sz, emb_sz)\n",
    "        self.emb.weight = nn.Parameter(torch.tensor(embed, dtype=torch.float32))\n",
    "        self.emb.weight.requires_grad = False\n",
    "        self.e_d = nn.Dropout2d(0.3)\n",
    "        self.lstm = nn.LSTM(emb_sz, hn, bidirectional=True, batch_first=True)\n",
    "        self.gru = nn.GRU(hn*2, hn, batch_first=True, bidirectional=True)\n",
    "        #self.lstm_atn = Attention(hn * 2, max_len)\n",
    "        #self.gru_atn = Attention(hn * 2, max_len)\n",
    "        self.fc = nn.Sequential(nn.Linear(hn*4, 16),nn.ReLU(),nn.Dropout(0.1),\n",
    "                                nn.Linear(16, num_classes))\n",
    "\n",
    "    def forward(self,x):\n",
    "        #print(\"x:\", x.shape)\n",
    "        e_o = torch.squeeze(self.e_d(torch.unsqueeze(self.emb(x), 0)))\n",
    "        #print(\"e_o:\", e_o.shape)\n",
    "        lstm_o,_ = self.lstm(e_o)\n",
    "        #print(\"lstm_o:\", lstm_o.shape)\n",
    "        gru_o,_ = self.gru(lstm_o)\n",
    "        #print(\"gru_o:\", gru_o.shape)\n",
    "        #lstm_atn = self.lstm_atn(lstm_o)\n",
    "        #gru_atn = self.gru_atn(gru_o)\n",
    "        concat_o = torch.cat([torch.mean(gru_o, 1),torch.max(gru_o, 1)[0]],1)\n",
    "        #print(\"concat_o:\", concat_o.shape)\n",
    "        \n",
    "        fc_out = self.fc(concat_o)\n",
    "        #print(\"out:\", fc_out.shape)\n",
    "        return fc_out     "
   ]
  },
  {
   "cell_type": "markdown",
   "metadata": {},
   "source": [
    "# **Utility Functions Definition**"
   ]
  },
  {
   "cell_type": "code",
   "execution_count": 20,
   "metadata": {},
   "outputs": [],
   "source": [
    "def onehot_encoder(batch_size, labels):\n",
    "    onehot_encoded = np.zeros(shape=(batch_size, num_classes), dtype=np.int32)\n",
    "    batch=0\n",
    "    for label in labels:\n",
    "        onehot_encoded[batch, label] = 1\n",
    "        batch+=1\n",
    "    return(onehot_encoded)\n",
    "\n",
    "def save_model(model, pth):\n",
    "    torch.save(model.state_dict(),pth)\n",
    "    \n",
    "def get_dl_split(split_id=0):\n",
    "    trn_idxs,val_idxs = splits[split_id]\n",
    "    trn_ds = TensorDataset(torch.tensor(x_dev[trn_idxs], dtype=torch.long), torch.tensor(y_dev[trn_idxs, np.newaxis], dtype=torch.float32))\n",
    "    val_ds = TensorDataset(torch.tensor(x_dev[val_idxs], dtype=torch.long), torch.tensor(y_dev[val_idxs, np.newaxis], dtype=torch.float32))\n",
    "    trn_dl = DataLoader(trn_ds, batch_size=bs, shuffle=True)\n",
    "    val_dl = DataLoader(val_ds, batch_size=bs*6, shuffle=False)\n",
    "    return trn_dl, val_dl, y_dev[val_idxs], val_idxs\n",
    "\n",
    "def train_model(dev_dl, embed):\n",
    "    \n",
    "    # Instantiate model\n",
    "    model = TextClassifier(embed, vocab_sz, embed.shape[1])\n",
    "    model = model.to(device)\n",
    "    # define loss function\n",
    "    criterion = nn.CrossEntropyLoss()\n",
    "    # Define optimizer\n",
    "    optimizer = torch.optim.Adam(model.parameters(), lr=learning_rate)\n",
    "    \n",
    "    # A History object to store metrics\n",
    "    history = hl.History()\n",
    "    # A Canvas object to draw the metrics\n",
    "    canvas = hl.Canvas()\n",
    "    # Begin Training\n",
    "    correct = total = step = sum_loss = 0\n",
    "    print(\"step_size:\", len(dev_dl))\n",
    "    for epoch in range(num_epochs):\n",
    "        for text, label in dev_dl:\n",
    "            text = text.to(device)\n",
    "            label = label.squeeze().to(device, dtype=torch.int64)\n",
    "            step += 1\n",
    "            \n",
    "            output = model(text)            \n",
    "            loss = criterion(output, label)\n",
    "        \n",
    "            optimizer.zero_grad()\n",
    "            # backprop\n",
    "            loss.backward()\n",
    "            optimizer.step()\n",
    "            \n",
    "            _, predictions = torch.max(output.data, 1)\n",
    "            correct += (predictions == label).sum(0).item()\n",
    "            total += label.size(0)\n",
    "            TrainAccuracy = correct / total\n",
    "            sum_loss += loss\n",
    "            avg_loss = sum_loss/step\n",
    "            \n",
    "            if(step % 5 == 0):\n",
    "                history.log(step, loss=avg_loss, accuracy=TrainAccuracy)\n",
    "                # Plot the two metrics in one graph\n",
    "                canvas.draw_plot([history['loss'], history['accuracy']])\n",
    "        \n",
    "            print ('Epoch [{}/{}], Step [{}], Train_Loss: {:.4f}, TrainAccuracy: {:.4f}'.format(epoch+1, num_epochs, step, loss.item(), TrainAccuracy))\n",
    "    return model"
   ]
  },
  {
   "cell_type": "code",
   "execution_count": 21,
   "metadata": {},
   "outputs": [],
   "source": [
    "# Model hyperparameters\n",
    "bs= 512 \n",
    "num_epochs = 400\n",
    "learning_rate = 0.001\n",
    "num_classes = 4"
   ]
  },
  {
   "cell_type": "markdown",
   "metadata": {},
   "source": [
    "# **Create Dataloaders**"
   ]
  },
  {
   "cell_type": "code",
   "execution_count": 22,
   "metadata": {},
   "outputs": [],
   "source": [
    "eng_ds_train = TensorDataset(torch.tensor(eng_x_train, dtype=torch.long), torch.tensor(eng_y_train, dtype=torch.float32))\n",
    "eng_dl_train = DataLoader(eng_ds_train, batch_size=bs, shuffle=True)\n",
    "\n",
    "eng_ds_test = TensorDataset(torch.tensor(eng_x_test, dtype=torch.long), torch.tensor(eng_y_test, dtype=torch.float32))\n",
    "eng_dl_test = DataLoader(eng_ds_test, batch_size=bs, shuffle=True)\n",
    "\n",
    "hin_ds_train = TensorDataset(torch.tensor(hin_x_train, dtype=torch.long), torch.tensor(hin_y_train, dtype=torch.float32))\n",
    "hin_dl_train = DataLoader(hin_ds_train, batch_size=bs, shuffle=True)\n",
    "\n",
    "hin_ds_test = TensorDataset(torch.tensor(hin_x_test, dtype=torch.long), torch.tensor(hin_y_test, dtype=torch.float32))\n",
    "hin_dl_test = DataLoader(hin_ds_test, batch_size=bs, shuffle=True)\n",
    "\n",
    "tel_ds_train = TensorDataset(torch.tensor(tel_x_train, dtype=torch.long), torch.tensor(tel_y_train, dtype=torch.float32))\n",
    "tel_dl_train = DataLoader(tel_ds_train, batch_size=bs, shuffle=True)\n",
    "\n",
    "tel_ds_test = TensorDataset(torch.tensor(tel_x_test, dtype=torch.long), torch.tensor(tel_y_test, dtype=torch.float32))\n",
    "tel_dl_test = DataLoader(tel_ds_test, batch_size=bs, shuffle=True)"
   ]
  },
  {
   "cell_type": "markdown",
   "metadata": {},
   "source": [
    "# **Train Telugu Model**"
   ]
  },
  {
   "cell_type": "code",
   "execution_count": 23,
   "metadata": {},
   "outputs": [
    {
     "data": {
      "image/png": "[encoded data removed]",
      "text/plain": [
       "<Figure size 864x288 with 1 Axes>"
      ]
     },
     "metadata": {
      "needs_background": "light"
     },
     "output_type": "display_data"
    },
    {
     "name": "stdout",
     "output_type": "stream",
     "text": [
      "Epoch [1800/1800], Step [1800], Train_Loss: 0.4504, TrainAccuracy: 0.7875\n"
     ]
    }
   ],
   "source": [
    "# Model hyperparameters\n",
    "bs= 512 \n",
    "num_epochs = 1800\n",
    "learning_rate = 0.001\n",
    "num_classes = 4\n",
    "\n",
    "tel_model = train_model(tel_dl_train, tel_embed_train)\n",
    "save_model(tel_model, \"tel_model.ckpt\")"
   ]
  },
  {
   "cell_type": "markdown",
   "metadata": {},
   "source": [
    "# **Train English Model**"
   ]
  },
  {
   "cell_type": "code",
   "execution_count": 24,
   "metadata": {},
   "outputs": [
    {
     "data": {
      "image/png": "[encoded data removed]",
      "text/plain": [
       "<Figure size 864x288 with 1 Axes>"
      ]
     },
     "metadata": {
      "needs_background": "light"
     },
     "output_type": "display_data"
    },
    {
     "name": "stdout",
     "output_type": "stream",
     "text": [
      "Epoch [1500/1500], Step [7500], Train_Loss: 0.2791, TrainAccuracy: 0.8050\n"
     ]
    }
   ],
   "source": [
    "# Model hyperparameters\n",
    "bs= 512 \n",
    "num_epochs = 1500\n",
    "learning_rate = 0.001\n",
    "num_classes = 4\n",
    "\n",
    "eng_model = train_model(eng_dl_train, eng_embed_train)\n",
    "save_model(eng_model, \"eng_model.ckpt\")"
   ]
  },
  {
   "cell_type": "markdown",
   "metadata": {},
   "source": [
    "# **Train Hindi Model**"
   ]
  },
  {
   "cell_type": "code",
   "execution_count": 25,
   "metadata": {},
   "outputs": [
    {
     "data": {
      "image/png": "[encoded data removed]",
      "text/plain": [
       "<Figure size 864x288 with 1 Axes>"
      ]
     },
     "metadata": {
      "needs_background": "light"
     },
     "output_type": "display_data"
    },
    {
     "name": "stdout",
     "output_type": "stream",
     "text": [
      "Epoch [1800/1800], Step [3600], Train_Loss: 0.3890, TrainAccuracy: 0.8130\n"
     ]
    }
   ],
   "source": [
    "# Model hyperparameters\n",
    "bs= 512 \n",
    "num_epochs = 1800\n",
    "learning_rate = 0.001\n",
    "num_classes = 4\n",
    "\n",
    "hin_model = train_model(hin_dl_train, hin_embed_train)\n",
    "save_model(hin_model, \"hin_model.ckpt\")"
   ]
  },
  {
   "cell_type": "markdown",
   "metadata": {},
   "source": [
    "# **Inferencing**"
   ]
  },
  {
   "cell_type": "code",
   "execution_count": 29,
   "metadata": {},
   "outputs": [],
   "source": [
    "# Inferencing\n",
    "def inference(dl, model):\n",
    "    correct = total = 0\n",
    "    for text, label in dl:\n",
    "        text = text.to(device)\n",
    "        label = label.squeeze().to(device, dtype=torch.int64)\n",
    "        output = model(text)\n",
    "        _, prediction = torch.max(output.data, 1)\n",
    "        correct += (prediction == label).sum(0).item()\n",
    "        total += label.size(0)\n",
    "        testAccuracy = correct / total\n",
    "    return testAccuracy"
   ]
  },
  {
   "cell_type": "code",
   "execution_count": 30,
   "metadata": {},
   "outputs": [
    {
     "name": "stdout",
     "output_type": "stream",
     "text": [
      "0.5083333333333333\n",
      "0.43478260869565216\n",
      "0.5317919075144508\n"
     ]
    }
   ],
   "source": [
    "Eng_accuracy = inference(eng_dl_test, eng_model)\n",
    "print(Eng_accuracy)\n",
    "Tel_accuracy = inference(tel_dl_test, tel_model)\n",
    "print(Tel_accuracy)\n",
    "Hin_accuracy = inference(hin_dl_test, hin_model)\n",
    "print(Hin_accuracy)"
   ]
  }
 ],
 "metadata": {
  "kernelspec": {
   "display_name": "Python 3",
   "language": "python",
   "name": "python3"
  },
  "language_info": {
   "codemirror_mode": {
    "name": "ipython",
    "version": 3
   },
   "file_extension": ".py",
   "mimetype": "text/x-python",
   "name": "python",
   "nbconvert_exporter": "python",
   "pygments_lexer": "ipython3",
   "version": "3.5.3"
  }
 },
 "nbformat": 4,
 "nbformat_minor": 2
}
