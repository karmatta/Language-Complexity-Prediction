{
 "cells": [
  {
   "cell_type": "code",
   "execution_count": 99,
   "metadata": {},
   "outputs": [],
   "source": [
    "# This python notebook is used to analyze/understand what makes a language complex\n",
    "# Author - Karthik D\n",
    "\n",
    "%matplotlib inline\n",
    "import pandas as pd\n",
    "import re"
   ]
  },
  {
   "cell_type": "markdown",
   "metadata": {},
   "source": [
    "# Load Data"
   ]
  },
  {
   "cell_type": "code",
   "execution_count": 25,
   "metadata": {},
   "outputs": [],
   "source": [
    "df = pd.read_csv(\"/home/karthik/Documents/Deep_Learning/CivicData/CivicData/data_stories.csv\")\n",
    "df = df[[\"story_id\", \"content\", 'reading_level_updated', 'story_langugage']]\n",
    "df = df.drop(df.index[[3658, 3669, 3686]])\n",
    "df = df.dropna()\n",
    "\n",
    "eng_df = df[df.story_langugage=='English']\n",
    "hin_df = df[df.story_langugage == 'Hindi']\n",
    "tel_df = df[df.story_langugage == 'Telugu']"
   ]
  },
  {
   "cell_type": "markdown",
   "metadata": {},
   "source": [
    "# Some Pre-processing"
   ]
  },
  {
   "cell_type": "code",
   "execution_count": 26,
   "metadata": {},
   "outputs": [
    {
     "name": "stderr",
     "output_type": "stream",
     "text": [
      "/usr/local/lib/python3.6/dist-packages/pandas/core/generic.py:4405: SettingWithCopyWarning: \n",
      "A value is trying to be set on a copy of a slice from a DataFrame.\n",
      "Try using .loc[row_indexer,col_indexer] = value instead\n",
      "\n",
      "See the caveats in the documentation: http://pandas.pydata.org/pandas-docs/stable/indexing.html#indexing-view-versus-copy\n",
      "  self[name] = value\n"
     ]
    }
   ],
   "source": [
    "import re\n",
    "\n",
    "hin_df.content = hin_df.content.str.replace(r'[A-Za-z0-9&;:,\\-()”“\\'\\'\\\"\\\\]', \"\")\n",
    "tel_df.content = tel_df.content.str.replace(r'[A-Za-z0-9&;:,\\-()”“\\'\\'\\\"\\\\]', \"\")\n",
    "eng_df.content = eng_df.content.str.replace(r'[0-9&;:\\-,()”“\\'\\'\\\"\\\\]', \"\")\n",
    "\n",
    "eng_df.content = eng_df.content.str.replace(\"\\n\",\"\")\n",
    "eng_df.content = eng_df.content.str.replace(\"\\t\",\"\")\n",
    "eng_df.content = eng_df.content.str.replace(\"\\r\",\"\")\n",
    "\n",
    "tel_df.content = tel_df.content.str.replace(\"\\n\",\"\")\n",
    "tel_df.content = tel_df.content.str.replace(\"\\t\",\"\")\n",
    "tel_df.content = tel_df.content.str.replace(\"\\r\",\"\")\n",
    "\n",
    "hin_df.content = hin_df.content.str.replace(\"\\n\",\"\")\n",
    "hin_df.content = hin_df.content.str.replace(\"\\t\",\"\")\n",
    "hin_df.content = hin_df.content.str.replace(\"\\r\",\"\")"
   ]
  },
  {
   "cell_type": "markdown",
   "metadata": {},
   "source": [
    "# Functions to compute some stats"
   ]
  },
  {
   "cell_type": "code",
   "execution_count": 143,
   "metadata": {},
   "outputs": [],
   "source": [
    "# Below are function definitions for computing the following stats:\n",
    "\n",
    "# Count of words\n",
    "# Avg word length\n",
    "# Avg sentence length\n",
    "# Count of sentences\n",
    "# Avg number of paragraphs\n",
    "# Avg length of paragraphs\n",
    "\n",
    "def count_of_words(df):\n",
    "    df = pd.DataFrame({\"content\":df.content,\"level\": df.reading_level_updated})\n",
    "    df[\"word_counts\"] = df.content.str.split(\" \").apply(len)\n",
    "    df = df.drop(\"content\", axis=1)\n",
    "    word_counts = df.groupby([\"level\"]).mean().round(0)\n",
    "    return word_counts\n",
    "\n",
    "def avg_word_length(df):\n",
    "    # Fetch the mean count of letters in each string\n",
    "    def letter_counts(l):\n",
    "        l = [len(s) for s in l]\n",
    "        return sum(l)/len(l)\n",
    "    df = pd.DataFrame({\"content\":df.content,\"level\": df.reading_level_updated})\n",
    "    df[\"mean_letter_counts\"] = df.content.str.split(\" \").apply(letter_counts)\n",
    "    df = df.drop(\"content\", axis=1)\n",
    "    mean_letter_counts = df.groupby([\"level\"]).mean().round(1)\n",
    "    return mean_letter_counts\n",
    "\n",
    "def count_sentences(df):\n",
    "    df = pd.DataFrame({\"content\":df.content,\"level\": df.reading_level_updated})\n",
    "    df[\"sen_count\"] = df.content.str.split(\".\").apply(len)\n",
    "    df = df.drop(\"content\", axis=1)\n",
    "    sen_count = df.groupby([\"level\"]).mean().round(0)\n",
    "    return sen_count\n",
    "\n",
    "def avg_sentence_length(df):\n",
    "    # Fetch the mean count of letters in each string\n",
    "    def letter_counts(l):\n",
    "        l = [len(s) for s in l]\n",
    "        return sum(l)/len(l)\n",
    "    df = pd.DataFrame({\"content\":df.content,\"level\": df.reading_level_updated})\n",
    "    df[\"avg_sentence_length\"] = df.content.str.split(\".\").apply(letter_counts)\n",
    "    df = df.drop(\"content\", axis=1)\n",
    "    avg_sentence_len = df.groupby([\"level\"]).mean().round(1)\n",
    "    return avg_sentence_len\n",
    "\n",
    "def count_sentences_hin(df):\n",
    "    df = pd.DataFrame({\"content\":df.content,\"level\": df.reading_level_updated})\n",
    "    df[\"sen_count\"] = df.content.str.split(\"।\").apply(len)\n",
    "    df = df.drop(\"content\", axis=1)\n",
    "    sen_count = df.groupby([\"level\"]).mean().round(0)\n",
    "    return sen_count\n",
    "\n",
    "def avg_sentence_length_hin(df):\n",
    "    # Fetch the mean count of letters in each string\n",
    "    def letter_counts(l):\n",
    "        l = [len(s) for s in l]\n",
    "        return sum(l)/len(l)\n",
    "    df = pd.DataFrame({\"content\":df.content,\"level\": df.reading_level_updated})\n",
    "    df[\"avg_sentence_length\"] = df.content.str.split(\"।\").apply(letter_counts)\n",
    "    df = df.drop(\"content\", axis=1)\n",
    "    avg_sentence_len = df.groupby([\"level\"]).mean().round(1)\n",
    "    return avg_sentence_len\n",
    "\n",
    "def count_paras(df):\n",
    "    # splits text into paragraphs separated by 3 or more spaces\n",
    "    def split_paras(text):\n",
    "        return re.split(r'\\s{3,}', text)\n",
    "    df = pd.DataFrame({\"content\":df.content,\"level\": df.reading_level_updated})\n",
    "    df[\"par_count\"] = df.content.apply(split_paras).apply(len)\n",
    "    df = df.drop(\"content\", axis=1)\n",
    "    par_count = df.groupby([\"level\"]).mean().round(0)\n",
    "    return par_count\n",
    "\n",
    "def avg_para_length(df):\n",
    "    # Fetch the mean count of letters in each string\n",
    "    def letter_counts(l):\n",
    "        l = [len(s) for s in l]\n",
    "        return sum(l)/len(l)\n",
    "    # splits text into paragraphs separated by 3 or more spaces\n",
    "    def split_paras(text):\n",
    "        return re.split(r'\\s{3,}', text)\n",
    "    df = pd.DataFrame({\"content\":df.content,\"level\": df.reading_level_updated})\n",
    "    df[\"avg_para_length\"] = df.content.apply(split_paras).apply(letter_counts)\n",
    "    df = df.drop(\"content\", axis=1)\n",
    "    avg_para_len = df.groupby([\"level\"]).mean().round(1)\n",
    "    return avg_para_len"
   ]
  },
  {
   "cell_type": "markdown",
   "metadata": {},
   "source": [
    "# Functions to compute some more stats"
   ]
  },
  {
   "cell_type": "code",
   "execution_count": 222,
   "metadata": {},
   "outputs": [],
   "source": [
    "# Below are function definitions for computing the following stats:\n",
    "\n",
    "# Count of unique words\n",
    "# Complexity index - This metric represents how many unique words were used to describe the content of a story:\n",
    "# CI - score btw (0,1), CI score is inversely proportional to language complexity (higher the CI, less complex the story)\n",
    "# # of words occuring just once\n",
    "\n",
    "# Raw count of unique words per level\n",
    "def count_unique_words(df):\n",
    "    df = pd.DataFrame({\"content\":df.content,\"level\": df.reading_level_updated})\n",
    "    l1 = len(list(set(df[df.level == \"L1\"].content.str.cat(sep=\" \").split(' '))))\n",
    "    l2 = len(list(set(df[df.level == \"L2\"].content.str.cat(sep=\" \").split(' '))))\n",
    "    l3 = len(list(set(df[df.level == \"L3\"].content.str.cat(sep=\" \").split(' '))))\n",
    "    l4 = len(list(set(df[df.level == \"L4\"].content.str.cat(sep=\" \").split(' '))))\n",
    "    unique_word_count = pd.DataFrame({\"unique_word_count\":[l1, l2, l3, l4]}) \n",
    "    unique_word_count.index.names = [\"level\"]\n",
    "    unique_word_count = unique_word_count.rename({0:\"L1\", 1:\"L2\", 2:\"L3\", 3:\"L4\"})\n",
    "    return unique_word_count\n",
    "\n",
    "# Complexity index - This metric represents how many unique words were used to describe the content of a story:\n",
    "# CI score range=(0,1), CI score is inversely proportional to language complexity (higher the CI, less complex the story)\n",
    "def complexity_index(df):\n",
    "    df = pd.DataFrame({\"content\":df.content,\"level\": df.reading_level_updated})\n",
    "    l1 = df[df.level == \"L1\"].content.str.split(\" \").apply(set).apply(len) / df[df.level == \"L1\"].content.str.split(\" \").apply(len)\n",
    "    l2 = df[df.level == \"L2\"].content.str.split(\" \").apply(set).apply(len) / df[df.level == \"L2\"].content.str.split(\" \").apply(len)\n",
    "    l3 = df[df.level == \"L3\"].content.str.split(\" \").apply(set).apply(len) / df[df.level == \"L3\"].content.str.split(\" \").apply(len)\n",
    "    l4 = df[df.level == \"L4\"].content.str.split(\" \").apply(set).apply(len) / df[df.level == \"L4\"].content.str.split(\" \").apply(len)\n",
    "    ci = pd.DataFrame({\"CI\":[l1.mean(), l2.mean(), l3.mean(), l4.mean()]}) \n",
    "    ci.index.names = [\"level\"]\n",
    "    ci = ci.rename({0:\"L1\", 1:\"L2\", 2:\"L3\", 3:\"L4\"})\n",
    "    return ci\n",
    "\n",
    "# Count the # of words occuring just once\n",
    "def count_single_occurance_words(df):\n",
    "    df = pd.DataFrame({\"content\":df.content,\"level\": df.reading_level_updated})\n",
    "    def word_count(str):\n",
    "        counts = dict()\n",
    "        words = str.split(\" \")\n",
    "        for word in words:\n",
    "            if word in counts:\n",
    "                counts[word] += 1\n",
    "            else:\n",
    "                counts[word] = 1\n",
    "        return sum(value == 1 for value in counts.values())\n",
    "    l1 = df[df.level == \"L1\"].content.apply(word_count).mean()\n",
    "    l2 = df[df.level == \"L2\"].content.apply(word_count).mean()\n",
    "    l3 = df[df.level == \"L3\"].content.apply(word_count).mean()\n",
    "    l4 = df[df.level == \"L4\"].content.apply(word_count).mean()\n",
    "    cso = pd.DataFrame({\"CSO\":[l1, l2, l3, l4]}) \n",
    "    cso.index.names = [\"level\"]\n",
    "    cso = cso.rename({0:\"L1\", 1:\"L2\", 2:\"L3\", 3:\"L4\"})\n",
    "    return cso"
   ]
  },
  {
   "cell_type": "markdown",
   "metadata": {},
   "source": [
    "# Print stats"
   ]
  },
  {
   "cell_type": "code",
   "execution_count": 197,
   "metadata": {},
   "outputs": [
    {
     "name": "stdout",
     "output_type": "stream",
     "text": [
      "       Eng_word_counts  Hin_word_counts  Tel_word_counts\n",
      "level                                                   \n",
      "L1               119.0            142.0            123.0\n",
      "L2               300.0            370.0            281.0\n",
      "L3               590.0            918.0            726.0\n",
      "L4              1310.0           1822.0           1349.0\n"
     ]
    }
   ],
   "source": [
    "# Print word counts \n",
    "eng_count_of_words = count_of_words(eng_df)\n",
    "hin_count_of_words = count_of_words(hin_df)\n",
    "tel_count_of_words = count_of_words(tel_df)\n",
    "tel_count_of_words.columns = [\"Tel_word_counts\"]\n",
    "hin_count_of_words.columns = [\"Hin_word_counts\"]\n",
    "eng_count_of_words.columns = [\"Eng_word_counts\"]\n",
    "word_counts = pd.concat([eng_count_of_words, hin_count_of_words, tel_count_of_words], axis=1)\n",
    "print(word_counts)"
   ]
  },
  {
   "cell_type": "markdown",
   "metadata": {},
   "source": [
    "Conclusion: It is clear that levels are directly dependent on the sizes of the stories (number of words used)"
   ]
  },
  {
   "cell_type": "code",
   "execution_count": 205,
   "metadata": {},
   "outputs": [
    {
     "name": "stdout",
     "output_type": "stream",
     "text": [
      "       Eng_avg_word_length  Hin_avg_word_length  Tel_avg_word_length\n",
      "level                                                               \n",
      "L1                     4.7                  3.7                  6.7\n",
      "L2                     4.8                  4.3                  6.8\n",
      "L3                     4.8                  4.2                  6.6\n",
      "L4                     4.7                  4.3                  6.5\n"
     ]
    }
   ],
   "source": [
    "# print avg word length\n",
    "eng_avg_word_length = avg_word_length(eng_df)\n",
    "hin_avg_word_length = avg_word_length(hin_df)\n",
    "tel_avg_word_length = avg_word_length(tel_df)\n",
    "tel_avg_word_length.columns = [\"Tel_avg_word_length\"]\n",
    "hin_avg_word_length.columns = [\"Hin_avg_word_length\"]\n",
    "eng_avg_word_length.columns = [\"Eng_avg_word_length\"]\n",
    "avg_word_len = pd.concat([eng_avg_word_length, hin_avg_word_length, tel_avg_word_length], axis=1)\n",
    "print(avg_word_len)"
   ]
  },
  {
   "cell_type": "markdown",
   "metadata": {},
   "source": [
    "Conclusion: The levels don't seem to be dependent on the avg sizes of the words used per level per language"
   ]
  },
  {
   "cell_type": "code",
   "execution_count": 201,
   "metadata": {},
   "outputs": [
    {
     "name": "stdout",
     "output_type": "stream",
     "text": [
      "       Eng_sen_count  Hin_sen_count  Tel_sen_count\n",
      "level                                             \n",
      "L1              13.0            8.0           19.0\n",
      "L2              31.0           26.0           43.0\n",
      "L3              51.0           59.0           95.0\n",
      "L4             110.0          114.0          179.0\n"
     ]
    }
   ],
   "source": [
    "# print sentence counts\n",
    "eng_sen_count = count_sentences(eng_df)\n",
    "hin_sen_count = count_sentences_hin(hin_df)\n",
    "tel_sen_count = count_sentences(tel_df)\n",
    "tel_sen_count.columns = [\"Tel_sen_count\"]\n",
    "hin_sen_count.columns = [\"Hin_sen_count\"]\n",
    "eng_sen_count.columns = [\"Eng_sen_count\"]\n",
    "sen_count = pd.concat([eng_sen_count, hin_sen_count, tel_sen_count], axis=1)\n",
    "print(sen_count)"
   ]
  },
  {
   "cell_type": "markdown",
   "metadata": {},
   "source": [
    "Conclusion: The levels are directly dependent on the number of sentences used per level in a language"
   ]
  },
  {
   "cell_type": "code",
   "execution_count": 204,
   "metadata": {},
   "outputs": [
    {
     "name": "stdout",
     "output_type": "stream",
     "text": [
      "       Eng_sen_len  Hin_sen_len  Tel_sen_len\n",
      "level                                       \n",
      "L1            93.4        287.5         53.8\n",
      "L2            84.6        274.3         70.9\n",
      "L3            89.7        242.3         63.0\n",
      "L4            72.6        391.4         59.8\n"
     ]
    }
   ],
   "source": [
    "# print sentence lengths\n",
    "eng_sen_len = avg_sentence_length(eng_df)\n",
    "hin_sen_len = avg_sentence_length_hin(hin_df)\n",
    "tel_sen_len = avg_sentence_length(tel_df)\n",
    "tel_sen_len.columns = [\"Tel_sen_len\"]\n",
    "hin_sen_len.columns = [\"Hin_sen_len\"]\n",
    "eng_sen_len.columns = [\"Eng_sen_len\"]\n",
    "sen_len = pd.concat([eng_sen_len, hin_sen_len, tel_sen_len], axis=1)\n",
    "print(sen_len)"
   ]
  },
  {
   "cell_type": "markdown",
   "metadata": {},
   "source": [
    "Conclusion: The levels don't seem to have any dependency on the length of sentences"
   ]
  },
  {
   "cell_type": "code",
   "execution_count": 207,
   "metadata": {},
   "outputs": [
    {
     "name": "stdout",
     "output_type": "stream",
     "text": [
      "       Eng_count_paras  Hin_count_paras  Tel_count_paras\n",
      "level                                                   \n",
      "L1                 1.0              2.0              2.0\n",
      "L2                 1.0              4.0              4.0\n",
      "L3                 2.0              8.0              5.0\n",
      "L4                 5.0             15.0              6.0\n"
     ]
    }
   ],
   "source": [
    "# print paragraph counts\n",
    "eng_count_paras = count_paras(eng_df)\n",
    "hin_count_paras = count_paras(hin_df)\n",
    "tel_count_paras = count_paras(tel_df)\n",
    "tel_count_paras.columns = [\"Tel_count_paras\"]\n",
    "hin_count_paras.columns = [\"Hin_count_paras\"]\n",
    "eng_count_paras.columns = [\"Eng_count_paras\"]\n",
    "para_count = pd.concat([eng_count_paras, hin_count_paras, tel_count_paras], axis=1)\n",
    "print(para_count)"
   ]
  },
  {
   "cell_type": "markdown",
   "metadata": {},
   "source": [
    "Conclusion: Again the levels are dependent on the size of the stories and the higher levels seem to have more paragraphs"
   ]
  },
  {
   "cell_type": "code",
   "execution_count": 208,
   "metadata": {},
   "outputs": [
    {
     "name": "stdout",
     "output_type": "stream",
     "text": [
      "       Eng_len_paras  Hin_len_paras  Tel_len_paras\n",
      "level                                             \n",
      "L1             639.5          489.1          693.0\n",
      "L2            1557.4         1278.4         1462.7\n",
      "L3            2841.4         2818.0         3202.5\n",
      "L4            4916.3         4806.7         5004.9\n"
     ]
    }
   ],
   "source": [
    "# print paragraph lengths\n",
    "eng_len_paras = avg_para_length(eng_df)\n",
    "hin_len_paras = avg_para_length(hin_df)\n",
    "tel_len_paras = avg_para_length(tel_df)\n",
    "tel_len_paras.columns = [\"Tel_len_paras\"]\n",
    "hin_len_paras.columns = [\"Hin_len_paras\"]\n",
    "eng_len_paras.columns = [\"Eng_len_paras\"]\n",
    "para_len = pd.concat([eng_len_paras, hin_len_paras, tel_len_paras], axis=1)\n",
    "print(para_len)"
   ]
  },
  {
   "cell_type": "markdown",
   "metadata": {},
   "source": [
    "Conclusion: Again, the levels depend on the length of the paragraphs/story"
   ]
  },
  {
   "cell_type": "code",
   "execution_count": 209,
   "metadata": {},
   "outputs": [
    {
     "name": "stdout",
     "output_type": "stream",
     "text": [
      "       Eng_unique_words  Hin_unique_words  Tel_unique_words\n",
      "level                                                      \n",
      "L1                20767              9170              5590\n",
      "L2                36742             17302             10720\n",
      "L3                33559             18562             19650\n",
      "L4                29391             22535             19461\n"
     ]
    }
   ],
   "source": [
    "# print counts of unique words\n",
    "eng_uw = count_unique_words(eng_df)\n",
    "hin_uw = count_unique_words(hin_df)\n",
    "tel_uw = count_unique_words(tel_df)\n",
    "tel_uw.columns = [\"Tel_unique_words\"]\n",
    "hin_uw.columns = [\"Hin_unique_words\"]\n",
    "eng_uw.columns = [\"Eng_unique_words\"]\n",
    "uw = pd.concat([eng_uw, hin_uw, tel_uw], axis=1)\n",
    "print(uw)"
   ]
  },
  {
   "cell_type": "markdown",
   "metadata": {},
   "source": [
    "Conclusion: The levels are directly dependent on the number of unique words in the story"
   ]
  },
  {
   "cell_type": "code",
   "execution_count": 210,
   "metadata": {},
   "outputs": [
    {
     "name": "stdout",
     "output_type": "stream",
     "text": [
      "         Eng_ci    Hin_ci    Tel_ci\n",
      "level                              \n",
      "L1     0.661238  0.612277  0.704127\n",
      "L2     0.589510  0.557044  0.682861\n",
      "L3     0.537485  0.473490  0.660715\n",
      "L4     0.492188  0.446749  0.649041\n"
     ]
    }
   ],
   "source": [
    "# Print Complexity index\n",
    "eng_uw = complexity_index(eng_df)\n",
    "hin_uw = complexity_index(hin_df)\n",
    "tel_uw = complexity_index(tel_df)\n",
    "tel_uw.columns = [\"Tel_ci\"]\n",
    "hin_uw.columns = [\"Hin_ci\"]\n",
    "eng_uw.columns = [\"Eng_ci\"]\n",
    "uw = pd.concat([eng_uw, hin_uw, tel_uw], axis=1)\n",
    "print(uw)"
   ]
  },
  {
   "cell_type": "markdown",
   "metadata": {},
   "source": [
    "Complexity Index: this is a metric which is a way of quantifying the level reading complexity. This metric is calculated \n",
    "Definition of CI = count of unique words in a story/total words in the story (Higher the CI, less complex the story)\n",
    "Conclusion: Levels is inversely dependent on the CI score"
   ]
  },
  {
   "cell_type": "code",
   "execution_count": 224,
   "metadata": {},
   "outputs": [
    {
     "name": "stdout",
     "output_type": "stream",
     "text": [
      "       Eng_count_single_occ_words  Hin_count_single_occ_words  \\\n",
      "level                                                           \n",
      "L1                           53.0                        56.0   \n",
      "L2                          120.0                       135.0   \n",
      "L3                          209.0                       277.0   \n",
      "L4                          386.0                       477.0   \n",
      "\n",
      "       Tel_count_single_occ_words  \n",
      "level                              \n",
      "L1                           61.0  \n",
      "L2                          141.0  \n",
      "L3                          369.0  \n",
      "L4                          675.0  \n"
     ]
    }
   ],
   "source": [
    "# find the number of single occurance words for each levels of story\n",
    "eng_uw = round(count_single_occurance_words(eng_df), 0)\n",
    "hin_uw = round(count_single_occurance_words(hin_df), 0)\n",
    "tel_uw = round(count_single_occurance_words(tel_df), 0)\n",
    "tel_uw.columns = [\"Tel_count_single_occ_words\"]\n",
    "hin_uw.columns = [\"Hin_count_single_occ_words\"]\n",
    "eng_uw.columns = [\"Eng_count_single_occ_words\"]\n",
    "uw = pd.concat([eng_uw, hin_uw, tel_uw], axis=1)\n",
    "print(uw)"
   ]
  },
  {
   "cell_type": "markdown",
   "metadata": {},
   "source": [
    "Conclusion: Finding the number of words that occour just once in a story is a good indicator of complexity of a story. The stories with higher levels tend to have more number of words that occour just once in the story"
   ]
  }
 ],
 "metadata": {
  "kernelspec": {
   "display_name": "Python 3",
   "language": "python",
   "name": "python3"
  },
  "language_info": {
   "codemirror_mode": {
    "name": "ipython",
    "version": 3
   },
   "file_extension": ".py",
   "mimetype": "text/x-python",
   "name": "python",
   "nbconvert_exporter": "python",
   "pygments_lexer": "ipython3",
   "version": "3.6.8"
  }
 },
 "nbformat": 4,
 "nbformat_minor": 2
}
