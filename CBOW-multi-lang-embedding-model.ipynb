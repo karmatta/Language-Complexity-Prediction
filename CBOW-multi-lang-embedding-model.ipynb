{
 "cells": [
  {
   "cell_type": "code",
   "execution_count": 13,
   "metadata": {
    "_cell_guid": "b1076dfc-b9ad-4769-8c92-a6c4dae69d19",
    "_uuid": "8f2839f25d086af736a60e9eeb907d3b93b6e0e5"
   },
   "outputs": [],
   "source": [
    "# This python notebook is used to build a \"Continuous Bag of Words\" language model \n",
    "# The CBOW model can be built on any language, given a corpus\n",
    "# This script builds the CBOW model for Hindi and Telugu languages from the corpus provided by CivicDataLabs\n",
    "# The output of this script is a language embeddings matrix for Hindi and Telugu trained on the provided corpus \n",
    "# Author - Karthik D\n",
    "\n",
    "%matplotlib inline\n",
    "import pandas as pd\n",
    "import io\n",
    "import pickle\n",
    "import torch\n",
    "from torch import nn\n",
    "from torch.autograd import Variable\n",
    "from torch.optim import SGD\n",
    "import torch.nn.functional as F\n",
    "\n",
    "CONTEXT_SIZE = 4\n",
    "EMBEDDING_DIM = 300\n",
    "EPOCH = 2\n",
    "VERVOSE = 1\n",
    "\n",
    "device = torch.device('cuda') if torch.cuda.is_available() else torch.device('cpu')"
   ]
  },
  {
   "cell_type": "markdown",
   "metadata": {},
   "source": [
    "# Load Data"
   ]
  },
  {
   "cell_type": "code",
   "execution_count": 2,
   "metadata": {
    "_cell_guid": "79c7e3d0-c299-4dcb-8224-4455121ee9b0",
    "_uuid": "d629ff2d2480ee46fbb7e2d37f6b5fab8052498a"
   },
   "outputs": [
    {
     "name": "stderr",
     "output_type": "stream",
     "text": [
      "/opt/anaconda3/lib/python3.6/site-packages/pandas/core/generic.py:4401: SettingWithCopyWarning: \n",
      "A value is trying to be set on a copy of a slice from a DataFrame.\n",
      "Try using .loc[row_indexer,col_indexer] = value instead\n",
      "\n",
      "See the caveats in the documentation: http://pandas.pydata.org/pandas-docs/stable/indexing.html#indexing-view-versus-copy\n",
      "  self[name] = value\n"
     ]
    }
   ],
   "source": [
    "df = pd.read_csv(\"~/CivicData/data_stories.csv\")\n",
    "df.synopsis = df.synopsis.str.replace(r'[0-9]', \"\")\n",
    "df.synopsis = df.synopsis.str.replace(r'[$&+,:;=?@#|<>.^*()%!-\\\\{}‘‘’’]', \"\")\n",
    "\n",
    "df.content = df.content.str.replace(r'[0-9]', \"\")\n",
    "df.content = df.content.str.replace(r'[$&+,:;=?@#|<>.^*()%!-\\\\{}‘‘’’]', \"\")\n",
    "\n",
    "eng_df = df[df.story_langugage=='English']\n",
    "hin_df = df[df.story_langugage == 'Hindi']\n",
    "tel_df = df[df.story_langugage == 'Telugu']\n",
    "\n",
    "\n",
    "hin_df.content = hin_df.content.str.replace(r'[A-Za-z]', \" \")\n",
    "hin_df.synopsis = hin_df.synopsis.str.replace(r'[A-Za-z]', \" \")\n",
    "\n",
    "tel_df.content = tel_df.content.str.replace(r'[A-Za-z]', \" \")\n",
    "tel_df.synopsis = tel_df.synopsis.str.replace(r'[A-Za-z]', \" \")"
   ]
  },
  {
   "cell_type": "markdown",
   "metadata": {},
   "source": [
    "# Some Pre-processing"
   ]
  },
  {
   "cell_type": "code",
   "execution_count": 3,
   "metadata": {},
   "outputs": [],
   "source": [
    "import re\n",
    "\n",
    "tel_corpus = tel_df.synopsis.str.cat(sep=\" \") + \" \" + tel_df.content.str.cat(sep=\" \")\n",
    "hin_corpus = hin_df.synopsis.str.cat(sep=\" \") + \" \" + hin_df.content.str.cat(sep=\" \")\n",
    "eng_corpus = eng_df.synopsis.str.cat(sep=\" \") + \" \" + eng_df.content.str.cat(sep=\" \")\n",
    "\n",
    "tel_corpus = tel_corpus.replace(\"\\n\",\"\")\n",
    "tel_corpus = tel_corpus.replace(\"\\t\",\"\")\n",
    "tel_corpus = tel_corpus.replace(\"\\r\",\"\")\n",
    "\n",
    "hin_corpus = hin_corpus.replace(\"\\n\",\"\")\n",
    "hin_corpus = hin_corpus.replace(\"\\t\",\"\")\n",
    "hin_corpus = hin_corpus.replace(\"\\r\",\"\")"
   ]
  },
  {
   "cell_type": "markdown",
   "metadata": {},
   "source": [
    "# CBOW Architecture Definition"
   ]
  },
  {
   "cell_type": "code",
   "execution_count": 29,
   "metadata": {},
   "outputs": [],
   "source": [
    "class CBOW(nn.Module):\n",
    "    def __init__(self, vocab_size, embedding_size, context_size):\n",
    "        super(CBOW, self).__init__()\n",
    "        self.vocab_size = vocab_size\n",
    "        self.embedding_size = embedding_size\n",
    "        self.context_size = context_size\n",
    "        self.embeddings = nn.Embedding(self.vocab_size, self.embedding_size)\n",
    "        # return vector size will be context_size*2*embedding_size\n",
    "        self.lin1 = nn.Linear(self.context_size * 2 * self.embedding_size, 512)\n",
    "        self.lin2 = nn.Linear(512, self.vocab_size)\n",
    "    \n",
    "    def forward(self, inp):\n",
    "        out = self.embeddings(inp).view(1, -1)\n",
    "        out = out.view(1, -1)\n",
    "        out = self.lin1(out)\n",
    "        out = F.relu(out)\n",
    "        out = self.lin2(out)\n",
    "        out = F.log_softmax(out, dim=1)\n",
    "        return out\n",
    "    \n",
    "    def get_word_vector(self, word_idx):\n",
    "        word = Variable(torch.LongTensor([word_idx])).to(device)\n",
    "        return self.embeddings(word).view(1, -1)\n"
   ]
  },
  {
   "cell_type": "markdown",
   "metadata": {},
   "source": [
    "# Train CBOW model"
   ]
  },
  {
   "cell_type": "code",
   "execution_count": 45,
   "metadata": {},
   "outputs": [],
   "source": [
    "import hiddenlayer as hl\n",
    "# A History object to store metrics\n",
    "history = hl.History()\n",
    "# A Canvas object to draw the metrics\n",
    "canvas = hl.Canvas()\n",
    "\n",
    "def train_cbow(data, unique_vocab, word_to_idx):\n",
    "    cbow = CBOW(len(unique_vocab), EMBEDDING_DIM, CONTEXT_SIZE)\n",
    "    cbow = cbow.to(device)\n",
    "    \n",
    "    nll_loss = nn.NLLLoss()  # loss function\n",
    "    optimizer = SGD(cbow.parameters(), lr=0.001)\n",
    "    \n",
    "    print(len(data))\n",
    "    step = 0\n",
    "    for epoch in range(EPOCH):\n",
    "        total_loss = 0\n",
    "        for context, target in data: \n",
    "            \n",
    "            step+=1\n",
    "            inp_var = Variable(torch.LongTensor([word_to_idx[word] for word in context])).to(device)\n",
    "            target_var = Variable(torch.LongTensor([word_to_idx[target]])).to(device)\n",
    "              \n",
    "            cbow.zero_grad()\n",
    "            log_prob = cbow(inp_var)\n",
    "            loss = nll_loss(log_prob, target_var)\n",
    "            loss.backward()\n",
    "            optimizer.step()\n",
    "            total_loss += loss.data\n",
    "            loss_avg = float(total_loss / step)\n",
    "            \n",
    "            if(step % 10000 == 0):\n",
    "                print(\"{}/{} loss {:.2f}\".format(epoch, EPOCH, loss_avg))\n",
    "                history.log(step, loss=loss_avg)\n",
    "                # Plot the two metrics in one graph\n",
    "                canvas.draw_plot([history['loss']])\n",
    "                \n",
    "            if(loss_avg < 0.02):\n",
    "                print(\"{}/{} loss {:.2f}\".format(epoch, EPOCH, loss_avg))\n",
    "                return cbow\n",
    "                   \n",
    "#         if epoch % VERVOSE == 0:\n",
    "#             print(\"{}/{} loss {:.2f}\".format(epoch, EPOCH, loss_avg))\n",
    "    return cbow"
   ]
  },
  {
   "cell_type": "markdown",
   "metadata": {},
   "source": [
    "# Test CBOW model"
   ]
  },
  {
   "cell_type": "code",
   "execution_count": 19,
   "metadata": {},
   "outputs": [],
   "source": [
    "def test_cbow(cbow, unique_vocab, word_to_idx):\n",
    "    # test word similarity\n",
    "    word_1 = unique_vocab[2]\n",
    "    word_2 = unique_vocab[3]\n",
    "    \n",
    "    word_1_vec = cbow.get_word_vector(word_to_idx[word_1])\n",
    "    word_2_vec = cbow.get_word_vector(word_to_idx[word_2])\n",
    "    \n",
    "    word_similarity = (word_1_vec.dot(word_2_vec) / (torch.norm(word_1_vec) * torch.norm(word_2_vec))).data.numpy()[0]\n",
    "    print(\"Similarity between '{}' & '{}' : {:0.4f}\".format(word_1, word_2, word_similarity))\n"
   ]
  },
  {
   "cell_type": "markdown",
   "metadata": {},
   "source": [
    "# Utility Functions for Training"
   ]
  },
  {
   "cell_type": "code",
   "execution_count": 46,
   "metadata": {},
   "outputs": [],
   "source": [
    "def make_embedding(corpus_text):\n",
    "    # content processed as context/target\n",
    "    # consider 2*CONTEXT_SIZE as context window where middle word as target\n",
    "    corpus_text = corpus_text.split(' ')\n",
    "    data = list()\n",
    "    for i in range(CONTEXT_SIZE, len(corpus_text) - CONTEXT_SIZE):\n",
    "        data_context = list()\n",
    "        for j in range(CONTEXT_SIZE):\n",
    "            data_context.append(corpus_text[i - CONTEXT_SIZE + j])\n",
    "        \n",
    "        for j in range(1, CONTEXT_SIZE + 1):\n",
    "            data_context.append(corpus_text[i + j])\n",
    "        data_target = corpus_text[i]\n",
    "        data.append((data_context, data_target))\n",
    " \n",
    "    print(\"Some data: \",data[:3])\n",
    "\n",
    "    unique_vocab = list(set(corpus_text))\n",
    "    \n",
    "    # mapping to index\n",
    "    word_to_idx = {w: i for i, w in enumerate(unique_vocab)}\n",
    "\n",
    "    # train model- changed global variable if needed\n",
    "    cbow = train_cbow(data, unique_vocab, word_to_idx)\n",
    "    \n",
    "    return cbow\n",
    "\n",
    "def save_embedding(emb, name):\n",
    "    with open(name, 'wb') as output:\n",
    "        pickle.dump(emb, output, pickle.HIGHEST_PROTOCOL)\n",
    "        \n",
    "def load_embedding(name):\n",
    "    with open(name, 'rb') as xyz:\n",
    "        emb = pickle.load(xyz)\n",
    "    return emb"
   ]
  },
  {
   "cell_type": "markdown",
   "metadata": {},
   "source": [
    "# Train Embedding"
   ]
  },
  {
   "cell_type": "code",
   "execution_count": 47,
   "metadata": {},
   "outputs": [
    {
     "data": {
      "image/png": "[encoded data removed]",
      "text/plain": [
       "<Figure size 864x288 with 1 Axes>"
      ]
     },
     "metadata": {
      "needs_background": "light"
     },
     "output_type": "display_data"
    },
    {
     "name": "stdout",
     "output_type": "stream",
     "text": [
      "1/2 loss 0.00\n"
     ]
    }
   ],
   "source": [
    "hin_embeddings = make_embedding(hin_corpus)"
   ]
  },
  {
   "cell_type": "code",
   "execution_count": 48,
   "metadata": {},
   "outputs": [],
   "source": [
    "save_embedding(hin_embeddings, \"hin_emb.pkl\")"
   ]
  },
  {
   "cell_type": "code",
   "execution_count": 49,
   "metadata": {},
   "outputs": [
    {
     "data": {
      "image/png": "[encoded data removed]",
      "text/plain": [
       "<Figure size 864x288 with 1 Axes>"
      ]
     },
     "metadata": {
      "needs_background": "light"
     },
     "output_type": "display_data"
    },
    {
     "name": "stdout",
     "output_type": "stream",
     "text": [
      "1/2 loss 0.00\n"
     ]
    }
   ],
   "source": [
    "tel_embeddings = make_embedding(tel_corpus)"
   ]
  },
  {
   "cell_type": "code",
   "execution_count": 50,
   "metadata": {},
   "outputs": [],
   "source": [
    "save_embedding(tel_embeddings, \"tel_emb.pkl\")"
   ]
  },
  {
   "cell_type": "markdown",
   "metadata": {},
   "source": [
    "# Fetch Embeddings"
   ]
  },
  {
   "cell_type": "code",
   "execution_count": 41,
   "metadata": {},
   "outputs": [
    {
     "name": "stdout",
     "output_type": "stream",
     "text": [
      "44870\n",
      "torch.Size([1, 300])\n",
      "torch.Size([1, 300])\n"
     ]
    }
   ],
   "source": [
    "unique_vocab = list(set(hin_corpus.split(' ')))\n",
    "print(len(unique_vocab))\n",
    "word_1 = unique_vocab[2]\n",
    "word_2 = unique_vocab[3]\n",
    "word_to_idx = {w: i for i, w in enumerate(unique_vocab)}\n",
    "    \n",
    "word_1_vec = hin_embeddings.get_word_vector(word_to_idx[word_1])\n",
    "word_2_vec = hin_embeddings.get_word_vector(word_to_idx[word_2])\n",
    "\n",
    "print(word_1_vec.shape)\n",
    "print(word_2_vec.shape)"
   ]
  },
  {
   "cell_type": "code",
   "execution_count": 9,
   "metadata": {},
   "outputs": [],
   "source": [
    "tel_embeddings = make_embedding(tel_corpus)"
   ]
  }
 ],
 "metadata": {
  "kernelspec": {
   "display_name": "Python 3",
   "language": "python",
   "name": "python3"
  },
  "language_info": {
   "codemirror_mode": {
    "name": "ipython",
    "version": 3
   },
   "file_extension": ".py",
   "mimetype": "text/x-python",
   "name": "python",
   "nbconvert_exporter": "python",
   "pygments_lexer": "ipython3",
   "version": "3.6.8"
  }
 },
 "nbformat": 4,
 "nbformat_minor": 2
}
